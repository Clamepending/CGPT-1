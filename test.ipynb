{
 "cells": [
  {
   "cell_type": "code",
   "execution_count": null,
   "metadata": {},
   "outputs": [],
   "source": [
    "import datasets\n",
    "\n",
    "from tokenizers import Tokenizer\n",
    "from tokenizers.models import WordLevel"
   ]
  },
  {
   "cell_type": "code",
   "execution_count": null,
   "metadata": {},
   "outputs": [],
   "source": [
    "\n",
    "d = datasets.load_dataset(name='tiny_shakespeare')['train']\n",
    "d = d.map(lambda x: datasets.Value('strings').unicode_split(x['text'], 'UTF-8'))\n",
    "# train split includes vocabulary for other splits\n",
    "vocabulary = sorted(set(next(iter(d)).numpy()))\n",
    "d = d.map(lambda x: {'cur_char': x[:-1], 'next_char': x[1:]})\n",
    "d = d.unbatch()\n",
    "seq_len = 100\n",
    "batch_size = 2\n",
    "d = d.batch(seq_len)\n",
    "d = d.batch(batch_size)"
   ]
  }
 ],
 "metadata": {
  "kernelspec": {
   "display_name": "gradio",
   "language": "python",
   "name": "python3"
  },
  "language_info": {
   "name": "python",
   "version": "3.10.13"
  }
 },
 "nbformat": 4,
 "nbformat_minor": 2
}
