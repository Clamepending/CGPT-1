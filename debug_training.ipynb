{
 "cells": [
  {
   "cell_type": "code",
   "execution_count": null,
   "metadata": {},
   "outputs": [],
   "source": []
  },
  {
   "cell_type": "code",
   "execution_count": null,
   "metadata": {},
   "outputs": [
    {
     "name": "stderr",
     "output_type": "stream",
     "text": [
      "c:\\Users\\Mark\\miniforge3\\envs\\gradio\\lib\\site-packages\\tqdm\\auto.py:21: TqdmWarning: IProgress not found. Please update jupyter and ipywidgets. See https://ipywidgets.readthedocs.io/en/stable/user_install.html\n",
      "  from .autonotebook import tqdm as notebook_tqdm\n"
     ]
    }
   ],
   "source": [
    "import torch\n",
    "import torch.nn as nn\n",
    "from torch.utils.data import random_split, DataLoader\n",
    "\n",
    "from dataset import ChemDataset, causal_mask\n",
    "import CGPT_tokenizer\n",
    "from config import get_config, get_weights_file_path, latest_weights_file_path\n",
    "\n",
    "from pathlib import Path\n",
    "import pandas as pd\n",
    "from CGPT_utils import *\n",
    "import os\n",
    "import warnings\n",
    "from tqdm import tqdm\n",
    "\n",
    "import torchmetrics\n",
    "from torch.utils.tensorboard import SummaryWriter"
   ]
  },
  {
   "cell_type": "code",
   "execution_count": null,
   "metadata": {},
   "outputs": [],
   "source": [
    "def get_ds(config):\n",
    "    \n",
    "    \n",
    "    return train_dataloader, val_dataloader, chem_tokenizer, text_tokenizer\n",
    "\n",
    "def get_model(config, vocab_src_len, vocab_tgt_len):\n",
    "    model = build_transformer(vocab_src_len, vocab_tgt_len, config['seq_len'], config['seq_len'], config['d_model'])\n",
    "    return model\n"
   ]
  },
  {
   "cell_type": "code",
   "execution_count": null,
   "metadata": {},
   "outputs": [],
   "source": []
  },
  {
   "cell_type": "code",
   "execution_count": null,
   "metadata": {},
   "outputs": [],
   "source": [
    "\n",
    "# for i, batch in enumerate(train_dataloader):\n",
    "#     if i >= 5:  # Limit to the first 5 batches\n",
    "#         break\n",
    "    \n",
    "#     # Print the batch\n",
    "#     print(f\"Batch {i + 1}:\")\n",
    "#     for key, value in batch.items():\n",
    "#         print(f\"{key}: {value}\")\n",
    "#     print(\"\\n\")"
   ]
  },
  {
   "cell_type": "code",
   "execution_count": null,
   "metadata": {},
   "outputs": [],
   "source": []
  },
  {
   "cell_type": "code",
   "execution_count": null,
   "metadata": {},
   "outputs": [],
   "source": [
    "from config import get_config\n",
    "config = get_config()\n",
    "config['batch_size'] = 6\n",
    "config['preload'] = None\n",
    "config['num_epochs'] = 30\n"
   ]
  },
  {
   "cell_type": "code",
   "execution_count": null,
   "metadata": {},
   "outputs": [
    {
     "name": "stdout",
     "output_type": "stream",
     "text": [
      "Using device: cpu\n",
      "NOTE: If you have a GPU, consider using it for training.\n",
      "      On a Windows machine with NVidia GPU, check this video: https://www.youtube.com/watch?v=GMSjDTU8Zlc\n",
      "      On a Mac machine, run: pip3 install --pre torch torchvision torchaudio torchtext --index-url https://download.pytorch.org/whl/nightly/cpu\n",
      "found tokenizer already.\n"
     ]
    },
    {
     "name": "stdout",
     "output_type": "stream",
     "text": [
      "             Name                                             SMILES  \\\n",
      "0    Benzaldehyde                                   C1=CC=C(C=C1)C=O   \n",
      "1         Aspirin                           CC(=O)OC1=CC=CC=C1C(=O)O   \n",
      "2  EGFR Inhibitor   C1CC1C(=O)NC2=CC=CC(=C2)NC3=NC=NC(=C3)NC4=CC=...   \n",
      "\n",
      "                                         Description  \n",
      "0   Benzaldehyde appears as a clear colorless to ...  \n",
      "1   Acetylsalicylic acid appears as odorless whit...  \n",
      "2                                             Ur mom  \n"
     ]
    },
    {
     "ename": "AttributeError",
     "evalue": "'ChemDataset' object has no attribute 'tokenizer'",
     "output_type": "error",
     "traceback": [
      "\u001b[1;31m---------------------------------------------------------------------------\u001b[0m",
      "\u001b[1;31mAttributeError\u001b[0m                            Traceback (most recent call last)",
      "Cell \u001b[1;32mIn[5], line 43\u001b[0m\n\u001b[0;32m     40\u001b[0m \u001b[38;5;66;03m# val_dataloader = DataLoader(validation_ds, batch_size=1, shuffle=True)\u001b[39;00m\n\u001b[0;32m     42\u001b[0m \u001b[38;5;28;01mfor\u001b[39;00m i \u001b[38;5;129;01min\u001b[39;00m \u001b[38;5;28mrange\u001b[39m(\u001b[38;5;28mmin\u001b[39m(\u001b[38;5;241m5\u001b[39m, \u001b[38;5;28mlen\u001b[39m(train_ds))):  \u001b[38;5;66;03m# Print the first 5 items or less if the dataset is smaller\u001b[39;00m\n\u001b[1;32m---> 43\u001b[0m     item \u001b[38;5;241m=\u001b[39m \u001b[43mtrain_ds\u001b[49m\u001b[43m[\u001b[49m\u001b[43mi\u001b[49m\u001b[43m]\u001b[49m\n\u001b[0;32m     44\u001b[0m     \u001b[38;5;28mprint\u001b[39m(\u001b[38;5;124mf\u001b[39m\u001b[38;5;124m\"\u001b[39m\u001b[38;5;124mItem \u001b[39m\u001b[38;5;132;01m{\u001b[39;00mi\u001b[38;5;250m \u001b[39m\u001b[38;5;241m+\u001b[39m\u001b[38;5;250m \u001b[39m\u001b[38;5;241m1\u001b[39m\u001b[38;5;132;01m}\u001b[39;00m\u001b[38;5;124m:\u001b[39m\u001b[38;5;124m\"\u001b[39m)\n\u001b[0;32m     45\u001b[0m     \u001b[38;5;28;01mfor\u001b[39;00m key, value \u001b[38;5;129;01min\u001b[39;00m item\u001b[38;5;241m.\u001b[39mitems():\n",
      "File \u001b[1;32mc:\\Users\\Mark\\Desktop\\AI_projects\\CGPT-1\\dataset.py:32\u001b[0m, in \u001b[0;36mChemDataset.__getitem__\u001b[1;34m(self, idx)\u001b[0m\n\u001b[0;32m     29\u001b[0m src_text \u001b[38;5;241m=\u001b[39m row[\u001b[38;5;28mself\u001b[39m\u001b[38;5;241m.\u001b[39msrc_lang]\n\u001b[0;32m     30\u001b[0m tgt_text \u001b[38;5;241m=\u001b[39m row[\u001b[38;5;28mself\u001b[39m\u001b[38;5;241m.\u001b[39mtgt_format]\n\u001b[1;32m---> 32\u001b[0m encoder_input_ids \u001b[38;5;241m=\u001b[39m \u001b[38;5;28;43mself\u001b[39;49m\u001b[38;5;241;43m.\u001b[39;49m\u001b[43mtokenizer\u001b[49m(src_text, padding\u001b[38;5;241m=\u001b[39m\u001b[38;5;124m'\u001b[39m\u001b[38;5;124mmax_length\u001b[39m\u001b[38;5;124m'\u001b[39m, truncation\u001b[38;5;241m=\u001b[39m\u001b[38;5;28;01mTrue\u001b[39;00m, max_length\u001b[38;5;241m=\u001b[39m\u001b[38;5;28mself\u001b[39m\u001b[38;5;241m.\u001b[39mseq_len, return_tensors\u001b[38;5;241m=\u001b[39m\u001b[38;5;124m'\u001b[39m\u001b[38;5;124mpt\u001b[39m\u001b[38;5;124m'\u001b[39m)[\u001b[38;5;124m'\u001b[39m\u001b[38;5;124minput_ids\u001b[39m\u001b[38;5;124m'\u001b[39m]\n\u001b[0;32m     33\u001b[0m target \u001b[38;5;241m=\u001b[39m \u001b[38;5;28mself\u001b[39m\u001b[38;5;241m.\u001b[39mtokenizer(tgt_text, padding\u001b[38;5;241m=\u001b[39m\u001b[38;5;124m'\u001b[39m\u001b[38;5;124mmax_length\u001b[39m\u001b[38;5;124m'\u001b[39m, truncation\u001b[38;5;241m=\u001b[39m\u001b[38;5;28;01mTrue\u001b[39;00m, max_length\u001b[38;5;241m=\u001b[39m(\u001b[38;5;28mself\u001b[39m\u001b[38;5;241m.\u001b[39mseq_len \u001b[38;5;241m+\u001b[39m \u001b[38;5;241m1\u001b[39m), return_tensors\u001b[38;5;241m=\u001b[39m\u001b[38;5;124m'\u001b[39m\u001b[38;5;124mpt\u001b[39m\u001b[38;5;124m'\u001b[39m)[\u001b[38;5;124m'\u001b[39m\u001b[38;5;124minput_ids\u001b[39m\u001b[38;5;124m'\u001b[39m]\n\u001b[0;32m     36\u001b[0m \u001b[38;5;66;03m# Create decoder inputs by shifting target sequence to the right\u001b[39;00m\n",
      "\u001b[1;31mAttributeError\u001b[0m: 'ChemDataset' object has no attribute 'tokenizer'"
     ]
    }
   ],
   "source": [
    "\n",
    "\n",
    "device = \"cuda\" if torch.cuda.is_available() else \"mps\" if torch.has_mps or torch.backends.mps.is_available() else \"cpu\"\n",
    "print(\"Using device:\", device)\n",
    "if (device == 'cuda'):\n",
    "    print(f\"Device name: {torch.cuda.get_device_name(device.index)}\")\n",
    "    print(f\"Device memory: {torch.cuda.get_device_properties(device.index).total_memory / 1024 ** 3} GB\")\n",
    "elif (device == 'mps'):\n",
    "    print(f\"Device name: <mps>\")\n",
    "else:\n",
    "    print(\"NOTE: If you have a GPU, consider using it for training.\")\n",
    "    print(\"      On a Windows machine with NVidia GPU, check this video: https://www.youtube.com/watch?v=GMSjDTU8Zlc\")\n",
    "    print(\"      On a Mac machine, run: pip3 install --pre torch torchvision torchaudio torchtext --index-url https://download.pytorch.org/whl/nightly/cpu\")\n",
    "device = torch.device(device)\n",
    "\n",
    "# Make sure the weights folder exists\n",
    "Path(f\"{config['model_folder']}\").mkdir(parents=True, exist_ok=True)\n",
    "\n",
    "\n",
    "chem_vocab_size = 500\n",
    "chem_seq_length = 32\n",
    "text_seq_length = 32\n",
    "\n",
    "chem_tokenizer = CGPT_tokenizer.make_custum_tokenizer(csv_path=config[\"SMILES dataset\"], column=\"SMILES\", vocab_size=chem_vocab_size)\n",
    "text_tokenizer = CGPT_tokenizer.make_default_tokenizer()\n",
    "\n",
    "\n",
    "\n",
    "data = pd.read_csv(config[\"SMILES dataset\"])\n",
    "\n",
    "train_ds_size = int(0.9*len(data))\n",
    "validation_ds_size = len(data) - train_ds_size\n",
    "# train_ds_raw, val_ds_raw = random_split(data, [train_ds_size, validation_ds_size])\n",
    "train_ds_raw = data\n",
    "\n",
    "print(data.head())\n",
    "\n",
    "train_ds = ChemDataset(train_ds_raw, text_tokenizer, chem_tokenizer, config['src_lang'], config['tgt_format'], config['seq_len'])\n",
    "# validation_ds = ChemDataset(val_ds_raw, text_tokenizer, chem_tokenizer, config['src_lang'], config['tgt_format'], config['seq_len'])\n",
    "\n",
    "train_dataloader = DataLoader(train_ds, batch_size=config['batch_size'], shuffle=True)\n",
    "# val_dataloader = DataLoader(validation_ds, batch_size=1, shuffle=True)\n",
    "\n",
    "for i in range(min(5, len(train_ds))):  # Print the first 5 items or less if the dataset is smaller\n",
    "    item = train_ds[i]\n",
    "    print(f\"Item {i + 1}:\")\n",
    "    for key, value in item.items():\n",
    "        print(f\"{key}: {value}\")\n",
    "    print(\"\\n\")\n",
    "    \n",
    "    \n",
    "model = get_model(config, text_tokenizer.vocab_size, chem_tokenizer.vocab_size).to(device)\n",
    "# Tensorboard\n",
    "writer = SummaryWriter(config['experiment_name'])\n",
    "\n",
    "optimizer = torch.optim.Adam(model.parameters(), lr=config['lr'], eps=1e-9)\n",
    "\n",
    "# If the user specified a model to preload before training, load it\n",
    "initial_epoch = 0\n",
    "global_step = 0\n",
    "preload = config['preload']\n",
    "model_filename = latest_weights_file_path(config) if preload == 'latest' else get_weights_file_path(config, preload) if preload else None\n",
    "if model_filename:\n",
    "    print(f'Preloading model {model_filename}')\n",
    "    state = torch.load(model_filename)\n",
    "    model.load_state_dict(state['model_state_dict'])\n",
    "    initial_epoch = state['epoch'] + 1\n",
    "    optimizer.load_state_dict(state['optimizer_state_dict'])\n",
    "    global_step = state['global_step']\n",
    "else:\n",
    "    print('No model to preload, starting from scratch')\n",
    "\n",
    "loss_fn = nn.CrossEntropyLoss(ignore_index=text_tokenizer.encode('<pad>', add_special_tokens = False), label_smoothing=0.1).to(device)\n",
    "\n",
    "for epoch in range(initial_epoch, config['num_epochs']):\n",
    "    torch.cuda.empty_cache()\n",
    "    model.train()\n",
    "    batch_iterator = tqdm(train_dataloader, desc=f\"Processing Epoch {epoch:02d}\")\n",
    "    for batch in batch_iterator:\n",
    "\n",
    "        encoder_input = batch['encoder_input'].to(device) # (b, seq_len)\n",
    "        decoder_input = batch['decoder_input'].to(device) # (B, seq_len)\n",
    "        encoder_mask = batch['encoder_mask'].to(device) # (B, 1, 1, seq_len)\n",
    "        decoder_mask = batch['decoder_mask'].to(device) # (B, 1, seq_len, seq_len)"
   ]
  }
 ],
 "metadata": {
  "kernelspec": {
   "display_name": "gradio",
   "language": "python",
   "name": "python3"
  },
  "language_info": {
   "codemirror_mode": {
    "name": "ipython",
    "version": 3
   },
   "file_extension": ".py",
   "mimetype": "text/x-python",
   "name": "python",
   "nbconvert_exporter": "python",
   "pygments_lexer": "ipython3",
   "version": "3.10.13"
  }
 },
 "nbformat": 4,
 "nbformat_minor": 2
}
