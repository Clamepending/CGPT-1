{
 "cells": [
  {
   "cell_type": "code",
   "execution_count": 41,
   "metadata": {},
   "outputs": [
    {
     "name": "stdout",
     "output_type": "stream",
     "text": [
      "found tokenizer already.\n"
     ]
    },
    {
     "name": "stderr",
     "output_type": "stream",
     "text": [
      "c:\\Users\\Mark\\Desktop\\AI_projects\\CGPT-1\\dataset.py:23: SettingWithCopyWarning: \n",
      "A value is trying to be set on a copy of a slice from a DataFrame.\n",
      "Try using .loc[row_indexer,col_indexer] = value instead\n",
      "\n",
      "See the caveats in the documentation: https://pandas.pydata.org/pandas-docs/stable/user_guide/indexing.html#returning-a-view-versus-a-copy\n",
      "  self.dataframe['encoder_input'] = self.dataframe[src_lang].apply(lambda x: tokenizer_src.encode(x, padding='max_length', truncation=True, max_length=self.seq_len, return_tensors='pt'))\n",
      "c:\\Users\\Mark\\Desktop\\AI_projects\\CGPT-1\\dataset.py:24: SettingWithCopyWarning: \n",
      "A value is trying to be set on a copy of a slice from a DataFrame.\n",
      "Try using .loc[row_indexer,col_indexer] = value instead\n",
      "\n",
      "See the caveats in the documentation: https://pandas.pydata.org/pandas-docs/stable/user_guide/indexing.html#returning-a-view-versus-a-copy\n",
      "  self.dataframe['decoder_input'] = self.dataframe[tgt_format].apply(lambda x: tokenizer_tgt.encode(x, padding='max_length', truncation=True, max_length=(self.seq_len + 1), return_tensors='pt'))\n",
      "c:\\Users\\Mark\\Desktop\\AI_projects\\CGPT-1\\dataset.py:25: SettingWithCopyWarning: \n",
      "A value is trying to be set on a copy of a slice from a DataFrame.\n",
      "Try using .loc[row_indexer,col_indexer] = value instead\n",
      "\n",
      "See the caveats in the documentation: https://pandas.pydata.org/pandas-docs/stable/user_guide/indexing.html#returning-a-view-versus-a-copy\n",
      "  self.dataframe['label'] = self.dataframe['decoder_input'].apply(lambda x: x[:,1:])\n",
      "c:\\Users\\Mark\\Desktop\\AI_projects\\CGPT-1\\dataset.py:23: SettingWithCopyWarning: \n",
      "A value is trying to be set on a copy of a slice from a DataFrame.\n",
      "Try using .loc[row_indexer,col_indexer] = value instead\n",
      "\n",
      "See the caveats in the documentation: https://pandas.pydata.org/pandas-docs/stable/user_guide/indexing.html#returning-a-view-versus-a-copy\n",
      "  self.dataframe['encoder_input'] = self.dataframe[src_lang].apply(lambda x: tokenizer_src.encode(x, padding='max_length', truncation=True, max_length=self.seq_len, return_tensors='pt'))\n",
      "c:\\Users\\Mark\\Desktop\\AI_projects\\CGPT-1\\dataset.py:24: SettingWithCopyWarning: \n",
      "A value is trying to be set on a copy of a slice from a DataFrame.\n",
      "Try using .loc[row_indexer,col_indexer] = value instead\n",
      "\n",
      "See the caveats in the documentation: https://pandas.pydata.org/pandas-docs/stable/user_guide/indexing.html#returning-a-view-versus-a-copy\n",
      "  self.dataframe['decoder_input'] = self.dataframe[tgt_format].apply(lambda x: tokenizer_tgt.encode(x, padding='max_length', truncation=True, max_length=(self.seq_len + 1), return_tensors='pt'))\n",
      "c:\\Users\\Mark\\Desktop\\AI_projects\\CGPT-1\\dataset.py:25: SettingWithCopyWarning: \n",
      "A value is trying to be set on a copy of a slice from a DataFrame.\n",
      "Try using .loc[row_indexer,col_indexer] = value instead\n",
      "\n",
      "See the caveats in the documentation: https://pandas.pydata.org/pandas-docs/stable/user_guide/indexing.html#returning-a-view-versus-a-copy\n",
      "  self.dataframe['label'] = self.dataframe['decoder_input'].apply(lambda x: x[:,1:])\n"
     ]
    }
   ],
   "source": [
    "\n",
    "from config import get_config\n",
    "\n",
    "from CGPT_utils import *\n",
    "\n",
    "from train import *\n",
    "\n",
    "from config import get_config\n",
    "cfg = get_config()\n",
    "cfg['batch_size'] = 6\n",
    "cfg['preload'] = None\n",
    "cfg['num_epochs'] = 30\n",
    "\n",
    "train_dataloader, val_dataloader, tokenizer_src, tokenizer_tgt = get_ds(cfg)"
   ]
  },
  {
   "cell_type": "code",
   "execution_count": 42,
   "metadata": {},
   "outputs": [],
   "source": [
    "device = \"cuda\" if torch.cuda.is_available() else \"mps\" if torch.has_mps or torch.backends.mps.is_available() else \"cpu\""
   ]
  },
  {
   "cell_type": "code",
   "execution_count": 43,
   "metadata": {},
   "outputs": [
    {
     "data": {
      "text/plain": [
       "<All keys matched successfully>"
      ]
     },
     "execution_count": 43,
     "metadata": {},
     "output_type": "execute_result"
    }
   ],
   "source": [
    "# Load the latest model checkpoint\n",
    "latest_checkpoint = \"./weights/tdmodel_29.pt\"\n",
    "checkpoint = torch.load(latest_checkpoint)\n",
    "\n",
    "# Load the model state from the checkpoint\n",
    "model_state_dict = checkpoint['model_state_dict']\n",
    "\n",
    "# Initialize the model\n",
    "model = get_model(cfg, tokenizer_src.vocab_size, tokenizer_tgt.vocab_size).to(device)\n",
    "\n",
    "# Load the model state\n",
    "model.load_state_dict(model_state_dict)"
   ]
  },
  {
   "cell_type": "code",
   "execution_count": 44,
   "metadata": {},
   "outputs": [],
   "source": [
    "def greedy_decode(model, source, source_mask, tokenizer_tgt, max_len, device):\n",
    "    sos_idx = tokenizer_tgt.encode(\"<s>\", add_special_tokens=False)[0]\n",
    "    # print(sos_idx)\n",
    "    eos_idx = tokenizer_tgt.encode(\"</s>\", add_special_tokens=False)[0]\n",
    "\n",
    "    # Initialize the decoder input with the sos token\n",
    "    decoder_input = torch.cat([torch.empty(1, 1).fill_(sos_idx).type_as(source).to(device), source], dim=1)\n",
    "    while True:\n",
    "        if decoder_input.size(1) == max_len:\n",
    "            break\n",
    "\n",
    "        # build mask for target\n",
    "        decoder_mask = causal_mask(decoder_input.size(1)).type_as(source_mask).to(device)\n",
    "\n",
    "        # calculate output\n",
    "        out = model.decode(decoder_input, decoder_mask)\n",
    "\n",
    "        # get next token\n",
    "        prob = model.project(out[:, -1])\n",
    "        _, next_word = torch.max(prob, dim=1)\n",
    "        decoder_input = torch.cat(\n",
    "            [decoder_input, torch.empty(1, 1).type_as(source).fill_(next_word.item()).to(device)], dim=1\n",
    "        )\n",
    "\n",
    "        if next_word == eos_idx:\n",
    "            break\n",
    "\n",
    "    return decoder_input.squeeze(0)"
   ]
  },
  {
   "cell_type": "code",
   "execution_count": 45,
   "metadata": {},
   "outputs": [
    {
     "name": "stdout",
     "output_type": "stream",
     "text": [
      "Input Sequence: C1=CC=C(C=C1)C\n",
      "Model Output: <s>C1=CC=C(C=C1)C=O</s>\n"
     ]
    }
   ],
   "source": [
    "\n",
    "def inference(input_sequence):\n",
    "    \n",
    "    input_tokens = tokenizer_tgt.encode(input_sequence, add_special_tokens=False)\n",
    "\n",
    "    # Prepare Input Tensors\n",
    "    max_len = 64\n",
    "    input_tensor = torch.tensor(input_tokens).unsqueeze(0)  # Add batch dimension\n",
    "    source_mask = causal_mask(input_tensor.size(1)).unsqueeze(0)  # Assuming decoder mask creation is available\n",
    "\n",
    "    # Query the Model\n",
    "    output_tensor = greedy_decode(model, input_tensor, source_mask, tokenizer_tgt, max_len, device)\n",
    "\n",
    "    # Decode Output\n",
    "    output_sequence = tokenizer_tgt.decode(output_tensor.cpu().numpy())\n",
    "\n",
    "    print(\"Input Sequence:\", input_sequence)\n",
    "    print(\"Model Output:\", output_sequence)\n",
    "    \n",
    "inference(\"C1=CC=C(C=C1)C\")\n"
   ]
  },
  {
   "cell_type": "code",
   "execution_count": 46,
   "metadata": {},
   "outputs": [
    {
     "name": "stdout",
     "output_type": "stream",
     "text": [
      "Input Sequence: C1CC1C(=O)NC2=CC=CC(=C2)N\n",
      "Model Output: <s>C1CC1C(=O)NC2=CC=CC(=C2)N3=NC=NC(=C3)NC4=\n"
     ]
    }
   ],
   "source": [
    "inference(\"C1CC1C(=O)NC2=CC=CC(=C2)N\")"
   ]
  }
 ],
 "metadata": {
  "kernelspec": {
   "display_name": "gradio",
   "language": "python",
   "name": "python3"
  },
  "language_info": {
   "codemirror_mode": {
    "name": "ipython",
    "version": 3
   },
   "file_extension": ".py",
   "mimetype": "text/x-python",
   "name": "python",
   "nbconvert_exporter": "python",
   "pygments_lexer": "ipython3",
   "version": "3.10.13"
  }
 },
 "nbformat": 4,
 "nbformat_minor": 2
}
