{
 "cells": [
  {
   "cell_type": "code",
   "execution_count": 2,
   "metadata": {},
   "outputs": [],
   "source": [
    "import CGPT_utils\n",
    "\n",
    "t = CGPT_utils.build_transformer(256, 128, 32, 32)"
   ]
  },
  {
   "cell_type": "code",
   "execution_count": 3,
   "metadata": {},
   "outputs": [
    {
     "name": "stdout",
     "output_type": "stream",
     "text": [
      "===========================================================================\n",
      "Layer (type:depth-idx)                             Param #\n",
      "===========================================================================\n",
      "├─Encoder: 1-1                                     --\n",
      "|    └─ModuleList: 2-1                             --\n",
      "|    |    └─EncoderBlock: 3-1                      3,150,340\n",
      "|    |    └─EncoderBlock: 3-2                      3,150,340\n",
      "|    |    └─EncoderBlock: 3-3                      3,150,340\n",
      "|    |    └─EncoderBlock: 3-4                      3,150,340\n",
      "|    |    └─EncoderBlock: 3-5                      3,150,340\n",
      "|    |    └─EncoderBlock: 3-6                      3,150,340\n",
      "|    └─LayerNormalization: 2-2                     2\n",
      "├─Decoder: 1-2                                     --\n",
      "|    └─ModuleList: 2-3                             --\n",
      "|    |    └─DecoderBlock: 3-7                      4,200,966\n",
      "|    └─LayerNormalization: 2-4                     2\n",
      "├─InputEmbedding: 1-3                              --\n",
      "|    └─Embedding: 2-5                              131,072\n",
      "├─InputEmbedding: 1-4                              --\n",
      "|    └─Embedding: 2-6                              65,536\n",
      "├─PositionalEncoding: 1-5                          --\n",
      "|    └─Dropout: 2-7                                --\n",
      "├─PositionalEncoding: 1-6                          --\n",
      "|    └─Dropout: 2-8                                --\n",
      "├─ProjectionLayer: 1-7                             --\n",
      "|    └─Linear: 2-9                                 65,664\n",
      "===========================================================================\n",
      "Total params: 23,365,282\n",
      "Trainable params: 23,365,282\n",
      "Non-trainable params: 0\n",
      "===========================================================================\n"
     ]
    },
    {
     "data": {
      "text/plain": [
       "===========================================================================\n",
       "Layer (type:depth-idx)                             Param #\n",
       "===========================================================================\n",
       "├─Encoder: 1-1                                     --\n",
       "|    └─ModuleList: 2-1                             --\n",
       "|    |    └─EncoderBlock: 3-1                      3,150,340\n",
       "|    |    └─EncoderBlock: 3-2                      3,150,340\n",
       "|    |    └─EncoderBlock: 3-3                      3,150,340\n",
       "|    |    └─EncoderBlock: 3-4                      3,150,340\n",
       "|    |    └─EncoderBlock: 3-5                      3,150,340\n",
       "|    |    └─EncoderBlock: 3-6                      3,150,340\n",
       "|    └─LayerNormalization: 2-2                     2\n",
       "├─Decoder: 1-2                                     --\n",
       "|    └─ModuleList: 2-3                             --\n",
       "|    |    └─DecoderBlock: 3-7                      4,200,966\n",
       "|    └─LayerNormalization: 2-4                     2\n",
       "├─InputEmbedding: 1-3                              --\n",
       "|    └─Embedding: 2-5                              131,072\n",
       "├─InputEmbedding: 1-4                              --\n",
       "|    └─Embedding: 2-6                              65,536\n",
       "├─PositionalEncoding: 1-5                          --\n",
       "|    └─Dropout: 2-7                                --\n",
       "├─PositionalEncoding: 1-6                          --\n",
       "|    └─Dropout: 2-8                                --\n",
       "├─ProjectionLayer: 1-7                             --\n",
       "|    └─Linear: 2-9                                 65,664\n",
       "===========================================================================\n",
       "Total params: 23,365,282\n",
       "Trainable params: 23,365,282\n",
       "Non-trainable params: 0\n",
       "==========================================================================="
      ]
     },
     "execution_count": 3,
     "metadata": {},
     "output_type": "execute_result"
    }
   ],
   "source": [
    "from torchsummary import summary\n",
    "\n",
    "summary(t, input_size=[(32, 256), (32, 32)])"
   ]
  },
  {
   "cell_type": "code",
   "execution_count": 4,
   "metadata": {},
   "outputs": [
    {
     "name": "stdout",
     "output_type": "stream",
     "text": [
      "found tokenizer already.\n"
     ]
    },
    {
     "data": {
      "text/plain": [
       "{'input_ids': [0, 56, 76, 73, 225, 71, 69, 88, 225, 71, 76, 69, 87, 73, 72, 225, 88, 76, 73, 225, 72, 83, 75, 225, 83, 90, 73, 86, 225, 69, 225, 74, 73, 82, 71, 73, 2], 'attention_mask': [1, 1, 1, 1, 1, 1, 1, 1, 1, 1, 1, 1, 1, 1, 1, 1, 1, 1, 1, 1, 1, 1, 1, 1, 1, 1, 1, 1, 1, 1, 1, 1, 1, 1, 1, 1, 1]}"
      ]
     },
     "execution_count": 4,
     "metadata": {},
     "output_type": "execute_result"
    }
   ],
   "source": [
    "import CGPT_tokenizer\n",
    "\n",
    "tokenizer = CGPT_tokenizer.make_tokenizer(csv_path=\"./data/test_dataset.csv\", column=\"SMILES\")\n",
    "\n",
    "tokenizer(\"The cat chased the dog over a fence\")"
   ]
  },
  {
   "cell_type": "code",
   "execution_count": null,
   "metadata": {},
   "outputs": [],
   "source": []
  },
  {
   "cell_type": "code",
   "execution_count": null,
   "metadata": {},
   "outputs": [],
   "source": []
  }
 ],
 "metadata": {
  "kernelspec": {
   "display_name": "gradio",
   "language": "python",
   "name": "python3"
  },
  "language_info": {
   "codemirror_mode": {
    "name": "ipython",
    "version": 3
   },
   "file_extension": ".py",
   "mimetype": "text/x-python",
   "name": "python",
   "nbconvert_exporter": "python",
   "pygments_lexer": "ipython3",
   "version": "3.10.13"
  }
 },
 "nbformat": 4,
 "nbformat_minor": 2
}
