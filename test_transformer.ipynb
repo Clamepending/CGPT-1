{
 "cells": [
  {
   "cell_type": "code",
   "execution_count": 12,
   "metadata": {},
   "outputs": [
    {
     "name": "stdout",
     "output_type": "stream",
     "text": [
      "found tokenizer already.\n",
      "Chemical Vocabulary Size: 500\n",
      "Text Vocabulary Size: 50265\n"
     ]
    }
   ],
   "source": [
    "import CGPT_tokenizer\n",
    "\n",
    "chem_vocab_size = 500\n",
    "chem_seq_length = 80\n",
    "text_seq_length = 80\n",
    "\n",
    "chem_tokenizer = CGPT_tokenizer.make_custum_tokenizer(csv_path=\"./data/train_dataset.csv\", column=\"SMILES\", vocab_size=chem_vocab_size)\n",
    "\n",
    "chem_vocab_size = chem_tokenizer.vocab_size\n",
    "print(\"Chemical Vocabulary Size:\", chem_vocab_size)\n",
    "\n",
    "\n",
    "text_tokenizer = CGPT_tokenizer.make_default_tokenizer()\n",
    "text_vocab_size = text_tokenizer.vocab_size\n",
    "print(\"Text Vocabulary Size:\", text_vocab_size)"
   ]
  },
  {
   "cell_type": "code",
   "execution_count": 6,
   "metadata": {},
   "outputs": [
    {
     "name": "stdout",
     "output_type": "stream",
     "text": [
      "{'input_ids': [0, 56, 76, 73, 225, 71, 69, 88, 225, 71, 76, 69, 87, 73, 72, 225, 88, 76, 73, 225, 72, 83, 75, 225, 83, 90, 73, 86, 225, 69, 225, 74, 73, 269, 73, 2], 'attention_mask': [1, 1, 1, 1, 1, 1, 1, 1, 1, 1, 1, 1, 1, 1, 1, 1, 1, 1, 1, 1, 1, 1, 1, 1, 1, 1, 1, 1, 1, 1, 1, 1, 1, 1, 1, 1]}\n",
      "{'input_ids': [0, 133, 4758, 15378, 5, 2335, 81, 10, 8146, 2], 'attention_mask': [1, 1, 1, 1, 1, 1, 1, 1, 1, 1]}\n"
     ]
    }
   ],
   "source": [
    "print(chem_tokenizer(\"The cat chased the dog over a fence\"))\n",
    "print(text_tokenizer(\"The cat chased the dog over a fence\"))"
   ]
  },
  {
   "cell_type": "code",
   "execution_count": 3,
   "metadata": {},
   "outputs": [],
   "source": [
    "import CGPT_utils\n",
    "\n",
    "t = CGPT_utils.build_transformer(text_vocab_size, chem_vocab_size, text_seq_length, chem_seq_length)\n",
    "model = CGPT_utils.build_decoder_only_transformer(50265, 80, 128)"
   ]
  },
  {
   "cell_type": "code",
   "execution_count": 4,
   "metadata": {},
   "outputs": [
    {
     "name": "stdout",
     "output_type": "stream",
     "text": [
      "===========================================================================\n",
      "Layer (type:depth-idx)                             Param #\n",
      "===========================================================================\n",
      "├─Encoder: 1-1                                     --\n",
      "|    └─ModuleList: 2-1                             --\n",
      "|    |    └─EncoderBlock: 3-1                      3,150,340\n",
      "|    |    └─EncoderBlock: 3-2                      3,150,340\n",
      "|    |    └─EncoderBlock: 3-3                      3,150,340\n",
      "|    |    └─EncoderBlock: 3-4                      3,150,340\n",
      "|    |    └─EncoderBlock: 3-5                      3,150,340\n",
      "|    |    └─EncoderBlock: 3-6                      3,150,340\n",
      "|    └─LayerNormalization: 2-2                     2\n",
      "├─Decoder: 1-2                                     --\n",
      "|    └─ModuleList: 2-3                             --\n",
      "|    |    └─DecoderBlock: 3-7                      4,200,966\n",
      "|    └─LayerNormalization: 2-4                     2\n",
      "├─InputEmbedding: 1-3                              --\n",
      "|    └─Embedding: 2-5                              25,735,680\n",
      "├─InputEmbedding: 1-4                              --\n",
      "|    └─Embedding: 2-6                              256,000\n",
      "├─PositionalEncoding: 1-5                          --\n",
      "|    └─Dropout: 2-7                                --\n",
      "├─PositionalEncoding: 1-6                          --\n",
      "|    └─Dropout: 2-8                                --\n",
      "├─ProjectionLayer: 1-7                             --\n",
      "|    └─Linear: 2-9                                 256,500\n",
      "===========================================================================\n",
      "Total params: 49,351,190\n",
      "Trainable params: 49,351,190\n",
      "Non-trainable params: 0\n",
      "===========================================================================\n"
     ]
    },
    {
     "data": {
      "text/plain": [
       "===========================================================================\n",
       "Layer (type:depth-idx)                             Param #\n",
       "===========================================================================\n",
       "├─Encoder: 1-1                                     --\n",
       "|    └─ModuleList: 2-1                             --\n",
       "|    |    └─EncoderBlock: 3-1                      3,150,340\n",
       "|    |    └─EncoderBlock: 3-2                      3,150,340\n",
       "|    |    └─EncoderBlock: 3-3                      3,150,340\n",
       "|    |    └─EncoderBlock: 3-4                      3,150,340\n",
       "|    |    └─EncoderBlock: 3-5                      3,150,340\n",
       "|    |    └─EncoderBlock: 3-6                      3,150,340\n",
       "|    └─LayerNormalization: 2-2                     2\n",
       "├─Decoder: 1-2                                     --\n",
       "|    └─ModuleList: 2-3                             --\n",
       "|    |    └─DecoderBlock: 3-7                      4,200,966\n",
       "|    └─LayerNormalization: 2-4                     2\n",
       "├─InputEmbedding: 1-3                              --\n",
       "|    └─Embedding: 2-5                              25,735,680\n",
       "├─InputEmbedding: 1-4                              --\n",
       "|    └─Embedding: 2-6                              256,000\n",
       "├─PositionalEncoding: 1-5                          --\n",
       "|    └─Dropout: 2-7                                --\n",
       "├─PositionalEncoding: 1-6                          --\n",
       "|    └─Dropout: 2-8                                --\n",
       "├─ProjectionLayer: 1-7                             --\n",
       "|    └─Linear: 2-9                                 256,500\n",
       "===========================================================================\n",
       "Total params: 49,351,190\n",
       "Trainable params: 49,351,190\n",
       "Non-trainable params: 0\n",
       "==========================================================================="
      ]
     },
     "execution_count": 4,
     "metadata": {},
     "output_type": "execute_result"
    }
   ],
   "source": [
    "from torchsummary import summary\n",
    "\n",
    "summary(t, input_size=[(32, 256), (32, 32)])"
   ]
  },
  {
   "cell_type": "code",
   "execution_count": null,
   "metadata": {},
   "outputs": [],
   "source": []
  },
  {
   "cell_type": "code",
   "execution_count": null,
   "metadata": {},
   "outputs": [],
   "source": []
  },
  {
   "cell_type": "code",
   "execution_count": null,
   "metadata": {},
   "outputs": [],
   "source": []
  }
 ],
 "metadata": {
  "kernelspec": {
   "display_name": "gradio",
   "language": "python",
   "name": "python3"
  },
  "language_info": {
   "codemirror_mode": {
    "name": "ipython",
    "version": 3
   },
   "file_extension": ".py",
   "mimetype": "text/x-python",
   "name": "python",
   "nbconvert_exporter": "python",
   "pygments_lexer": "ipython3",
   "version": "3.10.13"
  }
 },
 "nbformat": 4,
 "nbformat_minor": 2
}
