with open("./data/chembl_22_clean_1576904_sorted_std_final.txt", "r") as readfile:
    a = readfile.readlines()
    